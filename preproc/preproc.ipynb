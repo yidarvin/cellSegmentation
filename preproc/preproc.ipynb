{
 "cells": [
  {
   "cell_type": "code",
   "execution_count": 16,
   "metadata": {},
   "outputs": [],
   "source": [
    "\n",
    "import glob\n",
    "import os\n",
    "from os import listdir,mkdir,rmdir\n",
    "from os.path import join,isdir,isfile\n",
    "from PIL import Image\n",
    "\n",
    "import cv2\n",
    "import numpy as np\n",
    "from skimage import exposure\n",
    "\n",
    "%matplotlib inline\n",
    "import matplotlib.pyplot as plt"
   ]
  },
  {
   "cell_type": "code",
   "execution_count": 17,
   "metadata": {},
   "outputs": [],
   "source": [
    "plt.rcParams['figure.figsize'] = 16,9\n",
    "plt.rcParams.update({'font.size': 22})"
   ]
  },
  {
   "cell_type": "code",
   "execution_count": null,
   "metadata": {},
   "outputs": [],
   "source": []
  },
  {
   "cell_type": "code",
   "execution_count": 18,
   "metadata": {},
   "outputs": [],
   "source": [
    "img_size = 512"
   ]
  },
  {
   "cell_type": "code",
   "execution_count": 19,
   "metadata": {},
   "outputs": [],
   "source": [
    "def normalize_img(img):\n",
    "    img -= img.min()\n",
    "    img /= (img.max() + 1e-6)\n",
    "    return img"
   ]
  },
  {
   "cell_type": "code",
   "execution_count": 20,
   "metadata": {},
   "outputs": [],
   "source": [
    "def prepare_array(path_img,path_seg):\n",
    "    global img_size\n",
    "    img = np.array(Image.open(path_img)).astype(np.float32)\n",
    "    seg = np.array(Image.open(path_seg)).astype(np.float32)\n",
    "    \n",
    "    img = normalize_img(img)\n",
    "    #seg = (seg > 0)\n",
    "    img = exposure.equalize_adapthist(img, clip_limit=0.03)\n",
    "    \n",
    "    img = cv2.resize(img,(img_size,img_size))\n",
    "    seg = cv2.resize(seg,(img_size,img_size))\n",
    "    seg = (seg > 0)\n",
    "    \n",
    "    img = (255*img).astype(np.uint8)\n",
    "    seg = (255*seg).astype(np.uint8)\n",
    "    \n",
    "    return img,seg"
   ]
  },
  {
   "cell_type": "code",
   "execution_count": null,
   "metadata": {},
   "outputs": [],
   "source": []
  },
  {
   "cell_type": "code",
   "execution_count": 21,
   "metadata": {},
   "outputs": [],
   "source": [
    "path_data = \"/media/darvin/Data/cellSegmentation\"\n",
    "path_data_tr = join(path_data, \"rawDataForTraining\")\n",
    "name_val = \"Mask_20130704_CeruUTR_10\"\n",
    "path_data_te = join(path_data, \"rawDataForValidation\")\n",
    "\n",
    "path_save = \"/media/darvin/Data/cellSegmentation\"\n",
    "path_save_tr = join(path_save, \"train\")\n",
    "path_save_va = join(path_save, \"val\")\n",
    "path_save_te = join(path_save, \"test\")\n",
    "\n",
    "if not isdir(path_save):\n",
    "    mkdir(path_save)\n",
    "for path_to_make in [path_save_tr, path_save_va, path_save_te]:\n",
    "    if not isdir(path_to_make):\n",
    "        mkdir(path_to_make)\n",
    "    if not isdir(join(path_to_make, \"img\")):\n",
    "        mkdir(join(path_to_make, \"img\"))\n",
    "    if not isdir(join(path_to_make, \"seg\")):\n",
    "        mkdir(join(path_to_make, \"seg\"))"
   ]
  },
  {
   "cell_type": "code",
   "execution_count": 22,
   "metadata": {},
   "outputs": [],
   "source": [
    "for ii,name_pt in enumerate(sorted(listdir(path_data_tr))):\n",
    "    if name_pt == name_val:\n",
    "        path_to_save = path_save_va\n",
    "    else:\n",
    "        path_to_save = path_save_tr\n",
    "    \n",
    "    path_data_pt = join(path_data_tr, name_pt)\n",
    "    for name_img in sorted(listdir(path_data_pt)):\n",
    "        if name_img[:3] != \"DIC\":\n",
    "            continue\n",
    "        name_seg = \"Nul\" + name_img[3:]\n",
    "        path_img = join(path_data_pt,name_img)\n",
    "        path_seg = join(path_data_pt,name_seg)\n",
    "        \n",
    "        img,seg = prepare_array(path_img,path_seg)\n",
    "        \n",
    "        cv2.imwrite(join(path_to_save,\"img\",name_pt + '.' + name_img[4:-4] + '.png'),img)\n",
    "        cv2.imwrite(join(path_to_save,\"seg\",name_pt + '.' + name_img[4:-4] + '.png'),seg)"
   ]
  },
  {
   "cell_type": "code",
   "execution_count": 23,
   "metadata": {},
   "outputs": [],
   "source": [
    "for ii,name_pt in enumerate(sorted(listdir(path_data_te))):\n",
    "    path_to_save = path_save_te\n",
    "    \n",
    "    path_data_pt = join(path_data_te, name_pt)\n",
    "    for name_img in sorted(listdir(path_data_pt)):\n",
    "        if name_img[:3] != \"DIC\":\n",
    "            continue\n",
    "        name_seg = \"Nul\" + name_img[3:]\n",
    "        path_img = join(path_data_pt,name_img)\n",
    "        path_seg = join(path_data_pt,name_seg)\n",
    "        \n",
    "        img,seg = prepare_array(path_img,path_seg)\n",
    "        \n",
    "        cv2.imwrite(join(path_to_save,\"img\",name_pt + '.' + name_img[4:-4] + '.png'),img)\n",
    "        cv2.imwrite(join(path_to_save,\"seg\",name_pt + '.' + name_img[4:-4] + '.png'),seg)"
   ]
  },
  {
   "cell_type": "code",
   "execution_count": null,
   "metadata": {},
   "outputs": [],
   "source": []
  },
  {
   "cell_type": "code",
   "execution_count": null,
   "metadata": {},
   "outputs": [],
   "source": []
  },
  {
   "cell_type": "code",
   "execution_count": null,
   "metadata": {},
   "outputs": [],
   "source": []
  },
  {
   "cell_type": "code",
   "execution_count": null,
   "metadata": {},
   "outputs": [],
   "source": []
  },
  {
   "cell_type": "code",
   "execution_count": null,
   "metadata": {},
   "outputs": [],
   "source": []
  },
  {
   "cell_type": "code",
   "execution_count": null,
   "metadata": {},
   "outputs": [],
   "source": []
  },
  {
   "cell_type": "code",
   "execution_count": null,
   "metadata": {},
   "outputs": [],
   "source": []
  },
  {
   "cell_type": "code",
   "execution_count": null,
   "metadata": {},
   "outputs": [],
   "source": []
  },
  {
   "cell_type": "code",
   "execution_count": null,
   "metadata": {},
   "outputs": [],
   "source": []
  },
  {
   "cell_type": "code",
   "execution_count": null,
   "metadata": {},
   "outputs": [],
   "source": []
  },
  {
   "cell_type": "code",
   "execution_count": null,
   "metadata": {},
   "outputs": [],
   "source": []
  }
 ],
 "metadata": {
  "kernelspec": {
   "display_name": "Python 3",
   "language": "python",
   "name": "python3"
  },
  "language_info": {
   "codemirror_mode": {
    "name": "ipython",
    "version": 3
   },
   "file_extension": ".py",
   "mimetype": "text/x-python",
   "name": "python",
   "nbconvert_exporter": "python",
   "pygments_lexer": "ipython3",
   "version": "3.6.10"
  }
 },
 "nbformat": 4,
 "nbformat_minor": 4
}
